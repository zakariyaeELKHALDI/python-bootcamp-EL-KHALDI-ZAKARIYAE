{
 "cells": [
  {
   "cell_type": "markdown",
   "id": "57e7d64b",
   "metadata": {},
   "source": [
    "# Setup your environment"
   ]
  },
  {
   "cell_type": "markdown",
   "id": "366f6103",
   "metadata": {},
   "source": [
    "### Install anconda"
   ]
  },
  {
   "cell_type": "markdown",
   "id": "caa1d5b9",
   "metadata": {},
   "source": [
    "Anaconda is a distribution of python for scientific computing that aims to simplify package management and deployment.\n",
    "\n",
    "To install anaconda on windows\n",
    "\n",
    "1. Download anaconda from https://www.anaconda.com/products/individual#windows.\n",
    "2. Double click the downloaded file.\n",
    "3. Proceed with the installation."
   ]
  },
  {
   "cell_type": "markdown",
   "id": "a8a1f349",
   "metadata": {},
   "source": [
    "### Install Git bash"
   ]
  },
  {
   "cell_type": "markdown",
   "id": "48975142",
   "metadata": {},
   "source": [
    "Git Bash is an application for Microsoft Windows environments which provides an emulation layer for a Git command line\n",
    "experience.\n",
    "\n",
    "To install git bash on windows\n",
    "\n",
    "1. Download anaconda from https://www.anaconda.com/products/individual#windows.\n",
    "2. Double click the downloaded file.\n",
    "3. Proceed with the installation."
   ]
  },
  {
   "cell_type": "markdown",
   "id": "6ba78c67",
   "metadata": {},
   "source": [
    "### git configuration"
   ]
  },
  {
   "cell_type": "markdown",
   "id": "8bc96e37",
   "metadata": {},
   "source": [
    "Global config:"
   ]
  },
  {
   "cell_type": "code",
   "execution_count": null,
   "id": "b3332f78",
   "metadata": {},
   "outputs": [],
   "source": [
    "!git config --global user.name \"FIRST_NAME LAST_NAME\"\n",
    "!git config --global user.email \"MY_NAME@example.com\""
   ]
  },
  {
   "cell_type": "markdown",
   "id": "0b43edfc",
   "metadata": {},
   "source": [
    "Local config:"
   ]
  },
  {
   "cell_type": "code",
   "execution_count": null,
   "id": "01928b31",
   "metadata": {},
   "outputs": [],
   "source": [
    "!git config user.name \"FIRST_NAME LAST_NAME\"\n",
    "!git config user.email \"MY_NAME@example.com\""
   ]
  },
  {
   "cell_type": "markdown",
   "id": "459422e2",
   "metadata": {},
   "source": [
    "*Note that you can use git config for futher customization*"
   ]
  },
  {
   "cell_type": "markdown",
   "id": "dce5af67",
   "metadata": {},
   "source": [
    "### Track an existing project"
   ]
  },
  {
   "cell_type": "markdown",
   "id": "4fcc3828",
   "metadata": {},
   "source": [
    "To start tracking an existing project use the following commands"
   ]
  },
  {
   "cell_type": "code",
   "execution_count": null,
   "id": "6dd3dae0",
   "metadata": {},
   "outputs": [],
   "source": [
    "!cd yourproject\n",
    "!git init .\n",
    "!git add *\n",
    "!git commit -m \"commit message\""
   ]
  },
  {
   "cell_type": "markdown",
   "id": "fd7827f6",
   "metadata": {},
   "source": [
    "To make it vailable in github, create a new repository in github then run"
   ]
  },
  {
   "cell_type": "code",
   "execution_count": null,
   "id": "61b27beb",
   "metadata": {},
   "outputs": [],
   "source": [
    "!git remote add origin https://github.com/username/new_repo"
   ]
  },
  {
   "cell_type": "markdown",
   "id": "d296677b",
   "metadata": {},
   "source": [
    "### Virtual environments"
   ]
  },
  {
   "cell_type": "markdown",
   "id": "10712c5c",
   "metadata": {},
   "source": [
    "We will use conda\n",
    "\n",
    "conda is a very powerful package manager that excels at managing dependencies and offers an easy way to create\n",
    "and use virtual environments for your projects. It is used primarily in the Data Science world.\n",
    "\n",
    "To create a virtual environment run"
   ]
  },
  {
   "cell_type": "code",
   "execution_count": null,
   "id": "ac941b40",
   "metadata": {},
   "outputs": [],
   "source": [
    "!conda create --name myenv"
   ]
  },
  {
   "cell_type": "markdown",
   "id": "270db9f7",
   "metadata": {},
   "source": [
    "To activate your virtual environment run"
   ]
  },
  {
   "cell_type": "code",
   "execution_count": null,
   "id": "2480198c",
   "metadata": {},
   "outputs": [],
   "source": [
    "!conda activate myenv"
   ]
  },
  {
   "cell_type": "markdown",
   "id": "be9fbd7b",
   "metadata": {},
   "source": [
    "List you virtual environments"
   ]
  },
  {
   "cell_type": "code",
   "execution_count": null,
   "id": "fc69d5ab",
   "metadata": {},
   "outputs": [],
   "source": [
    "!conda env list"
   ]
  },
  {
   "cell_type": "markdown",
   "id": "3d0612c4",
   "metadata": {},
   "source": [
    "list packages installed in you virtual environment:"
   ]
  },
  {
   "cell_type": "code",
   "execution_count": null,
   "id": "aa5903ca",
   "metadata": {},
   "outputs": [],
   "source": [
    "!conda list -n myenv"
   ]
  },
  {
   "cell_type": "markdown",
   "id": "68736522",
   "metadata": {},
   "source": [
    "*For a detailed manual please visit the docs*"
   ]
  },
  {
   "cell_type": "markdown",
   "id": "9153bec2",
   "metadata": {},
   "source": [
    "### Jupyter notebook"
   ]
  },
  {
   "cell_type": "markdown",
   "id": "784a8556",
   "metadata": {},
   "source": [
    "Jupyter notebook is server-client application that allows you to edit and run your notebooks via a\n",
    "web browser"
   ]
  },
  {
   "cell_type": "code",
   "execution_count": null,
   "id": "0173954b",
   "metadata": {},
   "outputs": [],
   "source": []
  }
 ],
 "metadata": {
  "kernelspec": {
   "display_name": "Python 3",
   "language": "python",
   "name": "python3"
  },
  "language_info": {
   "codemirror_mode": {
    "name": "ipython",
    "version": 3
   },
   "file_extension": ".py",
   "mimetype": "text/x-python",
   "name": "python",
   "nbconvert_exporter": "python",
   "pygments_lexer": "ipython3",
   "version": "3.8.8"
  }
 },
 "nbformat": 4,
 "nbformat_minor": 5
}
