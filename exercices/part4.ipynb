{
 "cells": [
  {
   "cell_type": "markdown",
   "id": "47a096ce",
   "metadata": {},
   "source": [
    "### Exercice 1:"
   ]
  },
  {
   "cell_type": "markdown",
   "id": "f4977bb9",
   "metadata": {},
   "source": [
    "Write a Python class named square constructed by a length and two methods which will compute the area and the perimeter of the square."
   ]
  },
  {
   "cell_type": "code",
   "execution_count": 20,
   "id": "48a899aa",
   "metadata": {},
   "outputs": [],
   "source": [
    "class square():\n",
    "    def __init__(self, length):\n",
    "        self.length = length\n",
    "    def area(self):\n",
    "        return (self.length**2)\n",
    "    def perimeter(self):\n",
    "        return (self.length*4)\n",
    "    pass"
   ]
  },
  {
   "cell_type": "markdown",
   "id": "63d320bf",
   "metadata": {},
   "source": [
    "### Exercice 2:"
   ]
  },
  {
   "cell_type": "markdown",
   "id": "2ac6a965",
   "metadata": {},
   "source": [
    "Write a python class rectangle that inherits from the square class."
   ]
  },
  {
   "cell_type": "code",
   "execution_count": 21,
   "id": "007adc0d",
   "metadata": {},
   "outputs": [],
   "source": [
    "class rectangle(square):\n",
    "        def __init__(self, length, width):\n",
    "                self.length = length\n",
    "                self.width = width\n",
    "        pass"
   ]
  },
  {
   "cell_type": "markdown",
   "id": "14d9d504",
   "metadata": {},
   "source": [
    "### Exercice 3:"
   ]
  },
  {
   "cell_type": "code",
   "execution_count": 13,
   "id": "46dd0e2e",
   "metadata": {},
   "outputs": [
    {
     "ename": "AttributeError",
     "evalue": "'SampleClass' object has no attribute 'a'",
     "output_type": "error",
     "traceback": [
      "\u001b[0;31m---------------------------------------------------------------------------\u001b[0m",
      "\u001b[0;31mAttributeError\u001b[0m                            Traceback (most recent call last)",
      "Input \u001b[0;32mIn [13]\u001b[0m, in \u001b[0;36m<module>\u001b[0;34m\u001b[0m\n\u001b[1;32m      5\u001b[0m         \u001b[38;5;28mself\u001b[39m\u001b[38;5;241m.\u001b[39m__a \u001b[38;5;241m=\u001b[39m a\n\u001b[1;32m      7\u001b[0m x \u001b[38;5;241m=\u001b[39m SampleClass(\u001b[38;5;241m3\u001b[39m)\n\u001b[0;32m----> 8\u001b[0m \u001b[38;5;28mprint\u001b[39m(\u001b[43mx\u001b[49m\u001b[38;5;241;43m.\u001b[39;49m\u001b[43ma\u001b[49m)\n\u001b[1;32m      9\u001b[0m x\u001b[38;5;241m.\u001b[39ma \u001b[38;5;241m=\u001b[39m \u001b[38;5;241m23\u001b[39m\n\u001b[1;32m     10\u001b[0m \u001b[38;5;28mprint\u001b[39m(x\u001b[38;5;241m.\u001b[39ma)\n",
      "\u001b[0;31mAttributeError\u001b[0m: 'SampleClass' object has no attribute 'a'"
     ]
    }
   ],
   "source": [
    "class SampleClass:\n",
    "\n",
    "    def __init__(self, a):\n",
    "        ## private varibale in Python\n",
    "        self.__a = a\n",
    "\n",
    "x = SampleClass(3)\n",
    "print(x.a)\n",
    "x.a = 23\n",
    "print(x.a)\n"
   ]
  },
  {
   "cell_type": "markdown",
   "id": "048585b9",
   "metadata": {},
   "source": [
    "Use python decorators to make the above code works"
   ]
  },
  {
   "cell_type": "code",
   "execution_count": 12,
   "id": "70533302",
   "metadata": {},
   "outputs": [
    {
     "name": "stdout",
     "output_type": "stream",
     "text": [
      "3\n",
      "23\n"
     ]
    }
   ],
   "source": [
    "class SampleClass:\n",
    "    \n",
    "    def __init__(self, a):\n",
    "        ## private varibale in Python\n",
    "        self.__a = a\n",
    "    \n",
    "    def set_a(self):\n",
    "        self.a = self.__a\n",
    "\n",
    "x = SampleClass(3)\n",
    "x.set_a()\n",
    "print(x.a)\n",
    "x.a = 23\n",
    "print(x.a)"
   ]
  },
  {
   "cell_type": "code",
   "execution_count": null,
   "id": "71ec372d",
   "metadata": {},
   "outputs": [],
   "source": []
  }
 ],
 "metadata": {
  "kernelspec": {
   "display_name": "Python 3 (ipykernel)",
   "language": "python",
   "name": "python3"
  },
  "language_info": {
   "codemirror_mode": {
    "name": "ipython",
    "version": 3
   },
   "file_extension": ".py",
   "mimetype": "text/x-python",
   "name": "python",
   "nbconvert_exporter": "python",
   "pygments_lexer": "ipython3",
   "version": "3.8.10"
  }
 },
 "nbformat": 4,
 "nbformat_minor": 5
}
