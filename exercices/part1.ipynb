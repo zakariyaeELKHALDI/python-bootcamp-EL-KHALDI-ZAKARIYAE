{
 "cells": [
  {
   "cell_type": "markdown",
   "id": "5ad7e22a",
   "metadata": {},
   "source": [
    "### Exercice 1:"
   ]
  },
  {
   "cell_type": "markdown",
   "id": "b0be8057",
   "metadata": {},
   "source": [
    "Write a function that takes a string, and two indexes (integers), and returns a slice of that string as well as the length of the string.\n",
    "Call the function, and store the results in two variables"
   ]
  },
  {
   "cell_type": "code",
   "execution_count": null,
   "id": "fc19e47e",
   "metadata": {},
   "outputs": [],
   "source": [
    "#Write a function that takes a string, and two indexes (integers), and returns a slice of that string as well as the length of the string. Call the function, and store the results in two variables\n",
    "\n",
    "def slice(string, i1, i2):\n",
    "    if (i1<=i2):\n",
    "        return (string[i1:i2],len(string))\n",
    "    \n",
    "        if(len(string)-1 < i2):\n",
    "            i2=len(string)-1       \n",
    "    else:\n",
    "        i1, i2 = i2, i1\n",
    "        return(slice(string,i1,i2))\n",
    "    \n",
    "   \n",
    "string=input(\"string = \")\n",
    "i1=int(input(\"i1 = \"))\n",
    "i2=int(input(\"i2 = \"))\n",
    "a,b=slice(string,i1,i2)\n",
    "print(\"sliced_string = %s\\nlength = %d\" % (a,b))"
   ]
  },
  {
   "cell_type": "markdown",
   "id": "67df8c72",
   "metadata": {},
   "source": [
    "### Exercice 2:"
   ]
  },
  {
   "cell_type": "markdown",
   "id": "2a04a2e1",
   "metadata": {},
   "source": [
    "1. Write a function that takes two arguments, and returns the sum of the two.\n",
    "2. Call the function with the values 1 and 2.1, then check the type of the result.\n",
    "3. Call the function with the values False and 2, then check the type of the result."
   ]
  },
  {
   "cell_type": "code",
   "execution_count": 2,
   "id": "b9a1a7ff",
   "metadata": {},
   "outputs": [
    {
     "name": "stdout",
     "output_type": "stream",
     "text": [
      "3.1\n",
      "<class 'float'>\n",
      "2\n",
      "<class 'int'>\n"
     ]
    }
   ],
   "source": [
    "def sum(a,b):\n",
    "    return(a+b)\n",
    "\n",
    "print(sum(1, 2.1))\n",
    "print(type(sum(1, 2.1)))\n",
    "\n",
    "print(sum(False, 2))\n",
    "print(type(sum(False, 2)))"
   ]
  },
  {
   "cell_type": "markdown",
   "id": "3a38d47d",
   "metadata": {},
   "source": [
    "### Exercice 3:"
   ]
  },
  {
   "cell_type": "markdown",
   "id": "40a212f8",
   "metadata": {},
   "source": [
    "Write a function that takes a string and returns a dictionary containing character frequency.\n",
    "\n",
    "*example*\n",
    "\n",
    "    string sample: 'test'\n",
    "    \n",
    "    expected result: {'t':2, 'e':1, 's':1}"
   ]
  },
  {
   "cell_type": "code",
   "execution_count": null,
   "id": "6e0119f0",
   "metadata": {},
   "outputs": [],
   "source": [
    "def char_frequency(string):\n",
    "    Dict = {x: string.count(x) for x in string}\n",
    "    return (Dict)\n",
    "\n",
    "string = input(\"string = \") \n",
    "print(char_frequency(string))"
   ]
  },
  {
   "cell_type": "markdown",
   "id": "b9c9fad3",
   "metadata": {},
   "source": [
    "### Exercice 4:"
   ]
  },
  {
   "cell_type": "markdown",
   "id": "47b4ad19",
   "metadata": {},
   "source": [
    "Given two lists, iterate both lists simultaniously, such the first list would display item in original order and the second list in reverse order\n",
    "\n",
    "*example*:"
   ]
  },
  {
   "cell_type": "code",
   "execution_count": 3,
   "id": "b3e59b61",
   "metadata": {},
   "outputs": [
    {
     "name": "stdout",
     "output_type": "stream",
     "text": [
      "1 3\n",
      "2 2\n",
      "3 1\n"
     ]
    }
   ],
   "source": [
    "#from lib import print_orl #this is a lib you dont have access to\n",
    "#print_orl([1,2,3],[1,2,3])"
   ]
  },
  {
   "cell_type": "code",
   "execution_count": 4,
   "id": "9eb1eb7a",
   "metadata": {},
   "outputs": [
    {
     "name": "stdout",
     "output_type": "stream",
     "text": [
      "1 3\n",
      "2 2\n",
      "3 1\n"
     ]
    }
   ],
   "source": [
    "def iterate_list(a,b):\n",
    "    for i,j in zip(a, b[::-1]):\n",
    "        print(i,j)\n",
    "#The zip() function returns a zip object, which is an iterator of tuples where the first item in each passed iterator is paired together,\n",
    "# and then the second item in each passed iterator are paired together etc.\n",
    "\n",
    "a = [1, 2, 3]\n",
    "b = [1, 2 ,3]\n",
    "iterate_list(a,b)"
   ]
  },
  {
   "cell_type": "markdown",
   "id": "8e914139",
   "metadata": {},
   "source": [
    "### Exercice 5:"
   ]
  },
  {
   "cell_type": "markdown",
   "id": "89cbdbea",
   "metadata": {},
   "source": [
    "Given two 2d arrays, stack them horizontally.\n",
    "\n",
    "*example:*"
   ]
  },
  {
   "cell_type": "code",
   "execution_count": 5,
   "id": "feabf6d6",
   "metadata": {},
   "outputs": [
    {
     "name": "stdout",
     "output_type": "stream",
     "text": [
      "a = [[1. 1. 1. 1. 1.]\n",
      " [1. 1. 1. 1. 1.]]\n",
      "\n",
      "b = [[0. 0. 0. 0. 0.]\n",
      " [0. 0. 0. 0. 0.]]\n",
      "\n",
      "output = [[1. 1. 1. 1. 1. 0. 0. 0. 0. 0.]\n",
      " [1. 1. 1. 1. 1. 0. 0. 0. 0. 0.]]\n"
     ]
    }
   ],
   "source": [
    "import numpy as np\n",
    "\n",
    "#The input\n",
    "a = np.ones((1, 10)).reshape(2, -1)\n",
    "b = np.zeros((1, 10)).reshape(2, -1)\n",
    "\n",
    "#Try to print input\n",
    "print(f\"a = {a}\\n\")\n",
    "print(f\"b = {b}\\n\")\n",
    "\n",
    "#concatenate horizontally\n",
    "o = np.hstack((a,b)) #hstack() function is used to stack the sequence of input arrays horizontally, to make a single array\n",
    "print(f\"output = {o}\")"
   ]
  },
  {
   "cell_type": "markdown",
   "id": "ea04b462",
   "metadata": {},
   "source": [
    "### exercice 6:"
   ]
  },
  {
   "cell_type": "markdown",
   "id": "15d5a0b4",
   "metadata": {},
   "source": [
    "Create the following patterns using the bellow arrays a and b, and numpy functions:"
   ]
  },
  {
   "cell_type": "code",
   "execution_count": 14,
   "id": "dbb11c06",
   "metadata": {},
   "outputs": [
    {
     "name": "stdout",
     "output_type": "stream",
     "text": [
      "output1 = [0 0 0 1 1 1 2 2 2 0 1 2 0 1 2 0 1 2]\n",
      "\n",
      "output2 = [[[1. 2. 3.]\n",
      "  [1. 2. 3.]\n",
      "  [1. 2. 3.]]\n",
      "\n",
      " [[1. 2. 3.]\n",
      "  [1. 2. 3.]\n",
      "  [1. 2. 3.]]\n",
      "\n",
      " [[1. 2. 3.]\n",
      "  [1. 2. 3.]\n",
      "  [1. 2. 3.]]]\n",
      "\n",
      "output3 = [[1. 1. 1. 1. 1. 1. 1. 1. 1.]\n",
      " [1. 1. 1. 1. 1. 1. 1. 1. 1.]\n",
      " [1. 1. 1. 1. 1. 1. 1. 1. 1.]]\n"
     ]
    }
   ],
   "source": [
    "a = np.arange(3)\n",
    "b = np.ones((3,3,3))\n",
    "\n",
    "\n",
    "#output1 the following array: array([0, 0, 0, 1, 1, 1, 2, 2, 2, 0, 1, 2, 0, 1, 2, 0, 1, 2])\n",
    "def output1(a):\n",
    "    v1 = np.repeat(a,3)\n",
    "    v2 = np.hstack((a,a,a))\n",
    "    o1 = np.hstack((v1,v2))\n",
    "    return(o1)\n",
    "\n",
    "print(f\"output1 = {output1(a)}\\n\")\n",
    "\n",
    "#output2 the follwing array: array([[[1., 2., 3.],\n",
    "#                                    [1., 2., 3.],\n",
    "#                                    [1., 2., 3.]],\n",
    "\n",
    "#                                    [[1., 2., 3.],\n",
    "#                                    [1., 2., 3.],\n",
    "#                                    [1., 2., 3.]],\n",
    "\n",
    "#                                    [[1., 2., 3.],\n",
    "#                                    [1., 2., 3.],\n",
    "#                                    [1., 2., 3.]]])\n",
    "\n",
    "def output2(a):\n",
    "    c = np.ones(3)\n",
    "    d = a + c\n",
    "    e = np.vstack((d,d,d))\n",
    "    f = np.vstack((d,d,d))\n",
    "    g = np.vstack((d,d,d))\n",
    "    o2 = np.array((e,f,g)).reshape(3,3,3)\n",
    "    return(o2)\n",
    "\n",
    "print(f\"output2 = {output2(a)}\\n\")\n",
    "\n",
    "#output3 array([[1., 1., 1., 1., 1., 1., 1., 1., 1.],\n",
    "#                [1., 1., 1., 1., 1., 1., 1., 1., 1.],\n",
    "#                [1., 1., 1., 1., 1., 1., 1., 1., 1.]])\n",
    "\n",
    "def output3(b):\n",
    "    v3 = np.hstack((b[0][0], b[0][1], b[0][2]))\n",
    "    v4 = np.hstack((b[0][0], b[0][1], b[0][2]))\n",
    "    v5 = np.hstack((b[0][0], b[0][1], b[0][2]))\n",
    "    o3 = np.vstack((v3, v4, v5))\n",
    "    return(o3)\n",
    "\n",
    "print(f\"output3 = {output3(b)}\")"
   ]
  },
  {
   "cell_type": "code",
   "execution_count": null,
   "id": "1f56f462",
   "metadata": {},
   "outputs": [],
   "source": []
  }
 ],
 "metadata": {
  "kernelspec": {
   "display_name": "Python 3 (ipykernel)",
   "language": "python",
   "name": "python3"
  },
  "language_info": {
   "codemirror_mode": {
    "name": "ipython",
    "version": 3
   },
   "file_extension": ".py",
   "mimetype": "text/x-python",
   "name": "python",
   "nbconvert_exporter": "python",
   "pygments_lexer": "ipython3",
   "version": "3.8.10"
  }
 },
 "nbformat": 4,
 "nbformat_minor": 5
}
