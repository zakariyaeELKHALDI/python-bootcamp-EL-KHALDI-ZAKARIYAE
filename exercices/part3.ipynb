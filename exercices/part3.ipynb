{
 "cells": [
  {
   "cell_type": "markdown",
   "id": "ac2bc319",
   "metadata": {},
   "source": [
    "# Weclome to Pandas DataFrames exercises"
   ]
  },
  {
   "cell_type": "markdown",
   "id": "a684abc9",
   "metadata": {},
   "source": [
    "In this exercise, we are using Automobile Dataset for data analysis. This Dataset has different characteristics of an auto such as body-style, wheel-base, engine-type, price, mileage, horsepower.\n",
    "\n",
    "you can find the data in the data folder under `Automobile_data.csv`name"
   ]
  },
  {
   "attachments": {},
   "cell_type": "markdown",
   "id": "acc9e961",
   "metadata": {},
   "source": [
    "### Exercise 1:\n",
    "\n",
    "From the given dataset print the first and last five rows\n",
    "![pandas_printing_first_5_rows.webp](../data/pandas_printing_first_5_rows.webp)\n",
    "Python Pandas printing first 5 rows"
   ]
  },
  {
   "attachments": {},
   "cell_type": "markdown",
   "id": "1e40078c",
   "metadata": {},
   "source": [
    "![pandas_printing_last_5_rows.webp](../data/pandas_printing_last_5_rows.webp)\n",
    "Python Pandas printing last 5 rows"
   ]
  },
  {
   "cell_type": "markdown",
   "id": "46ec97c2",
   "metadata": {},
   "source": [
    "### Exercise 2:\n",
    "\n",
    "**Clean the dataset and update the CSV file**\n",
    "\n",
    "Replace all column values which contain `?`, `n.a`, or `NaN`."
   ]
  },
  {
   "attachments": {},
   "cell_type": "markdown",
   "id": "9475f5f6",
   "metadata": {},
   "source": [
    "### Exercise 3:\n",
    "**Find the most expensive car company name**\n",
    "\n",
    "Print most expensive car’s company name and price.\n",
    "\n",
    "**Expected Output:**\n",
    "![pandas_printing_most_costly_car_name.webp](../data/pandas_printing_most_costly_car_name.webp)"
   ]
  },
  {
   "attachments": {},
   "cell_type": "markdown",
   "id": "50d2a86c",
   "metadata": {},
   "source": [
    "### Exercise 4:\n",
    "**Print All Toyota Cars details**\n",
    "\n",
    "**Expected Output:**\n",
    "![pandas_printing_all_toyota_car_data.webp](../data/pandas_printing_all_toyota_car_data.webp)"
   ]
  },
  {
   "attachments": {},
   "cell_type": "markdown",
   "id": "9d3e3f62",
   "metadata": {},
   "source": [
    "### Exercise 5:\n",
    "Count total cars per company\n",
    "\n",
    "**Expected Outcome:**\n",
    "\n",
    "![pandas_count_total_cars_per_company.webp](../data/pandas_count_total_cars_per_company.webp)"
   ]
  },
  {
   "attachments": {},
   "cell_type": "markdown",
   "id": "0d774f41",
   "metadata": {},
   "source": [
    "### Exercise 6:\n",
    "Find each company’s Higesht price car\n",
    "\n",
    "**Expected Outcome:**\n",
    "\n",
    "![pandas_printing_each_companys_higesht_price_car.webp](../data/pandas_printing_each_companys_higesht_price_car.webp)"
   ]
  },
  {
   "attachments": {},
   "cell_type": "markdown",
   "id": "f96d8517",
   "metadata": {},
   "source": [
    "### Exercise 7:\n",
    "Find the average mileage of each car making company\n",
    "\n",
    "**Expected Output:**\n",
    "\n",
    "![pandas_printing_average_mileage_of_each_car_making_company.webp](../data/pandas_printing_average_mileage_of_each_car_making_company.webp)"
   ]
  },
  {
   "attachments": {},
   "cell_type": "markdown",
   "id": "e9152b66",
   "metadata": {},
   "source": [
    "### Exercise 8:\n",
    "Sort all cars by Price column\n",
    "\n",
    "**Expected Output:**\n",
    "\n",
    "![pandas_sort_all_cars_by_price_column.webp](../data/pandas_sort_all_cars_by_price_column.webp)"
   ]
  },
  {
   "attachments": {},
   "cell_type": "markdown",
   "id": "5e206bb1",
   "metadata": {},
   "source": [
    "### Exercise 9:\n",
    "\n",
    "Concatenate two data frames using the following conditions\n",
    "\n",
    "Create two data frames using the following two dictionaries.\n",
    "\n",
    "```python\n",
    "GermanCars = {'Company': ['Ford', 'Mercedes', 'BMV', 'Audi'], 'Price': [23845, 171995, 135925 , 71400]}\n",
    "japaneseCars = {'Company': ['Toyota', 'Honda', 'Nissan', 'Mitsubishi '], 'Price': [29995, 23600, 61500 , 58900]}\n",
    "```\n",
    "\n",
    "**Expected Output:**\n",
    "\n",
    "![pandas_concatenate_two_data_frames_and_create_key_for_each_data_frame.webp](../data/pandas_concatenate_two_data_frames_and_create_key_for_each_data_frame.webp)"
   ]
  },
  {
   "attachments": {},
   "cell_type": "markdown",
   "id": "3c88abab",
   "metadata": {},
   "source": [
    "### Exercise 10:\n",
    "\n",
    "**Merge two data frames using the following condition**\n",
    "\n",
    "Create two data frames using the following two Dicts, Merge two data frames, and append the second data frame as a new column to the first data frame.\n",
    "\n",
    "```python\n",
    "Car_Price = {'Company': ['Toyota', 'Honda', 'BMV', 'Audi'], 'Price': [23845, 17995, 135925 , 71400]}\n",
    "car_Horsepower = {'Company': ['Toyota', 'Honda', 'BMV', 'Audi'], 'horsepower': [141, 80, 182 , 160]}\n",
    "```\n",
    "\n",
    "**Expected Output:**\n",
    "\n",
    "![merge_two_data_frames_and_append_new_data_frame_as_new-column.webp](../data/merge_two_data_frames_and_append_new_data_frame_as_new-column.webp)"
   ]
  }
 ],
 "metadata": {
  "kernelspec": {
   "display_name": "Python 3 (ipykernel)",
   "language": "python",
   "name": "python3"
  },
  "language_info": {
   "codemirror_mode": {
    "name": "ipython",
    "version": 3
   },
   "file_extension": ".py",
   "mimetype": "text/x-python",
   "name": "python",
   "nbconvert_exporter": "python",
   "pygments_lexer": "ipython3",
   "version": "3.8.10"
  }
 },
 "nbformat": 4,
 "nbformat_minor": 5
}
